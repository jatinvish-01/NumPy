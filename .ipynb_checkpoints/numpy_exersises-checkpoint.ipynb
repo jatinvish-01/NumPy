{
 "cells": [
  {
   "cell_type": "code",
   "execution_count": null,
   "id": "20beb902-c142-457c-b76e-3ed9ec7c6d5f",
   "metadata": {},
   "outputs": [],
   "source": []
  },
  {
   "cell_type": "markdown",
   "id": "b8184faf-56e6-4cb5-84bc-9a23cce153fe",
   "metadata": {},
   "source": [
    "**Valid Sudoku**"
   ]
  },
  {
   "cell_type": "code",
   "execution_count": 3,
   "id": "01aca062-5ef2-423a-94d1-24cb73fc0551",
   "metadata": {},
   "outputs": [],
   "source": [
    "s = np.array([\n",
    "    [5, 3, 4, 6, 7, 8, 9, 1, 2],\n",
    "    [6, 7, 2, 1, 9, 5, 3, 4, 8],\n",
    "    [1, 9, 8, 3, 4, 2, 5, 6, 7],\n",
    "    \n",
    "    [8, 5, 9, 7, 6, 1, 4, 2, 3],\n",
    "    [4, 2, 6, 8, 5, 3, 7, 9, 1],\n",
    "    [7, 1, 3, 9, 2, 4, 8, 5, 6],\n",
    "    \n",
    "    [9, 6, 1, 5, 3, 7, 2, 8, 4],\n",
    "    [2, 8, 7, 4, 1, 9, 6, 3, 5],\n",
    "    [3, 4, 5, 2, 8, 6, 1, 7, 9]\n",
    "])"
   ]
  },
  {
   "cell_type": "markdown",
   "id": "b80e97ca-7b75-4d54-b17b-1dc633d28d21",
   "metadata": {},
   "source": [
    "**General Questions**"
   ]
  },
  {
   "cell_type": "code",
   "execution_count": 9,
   "id": "1a661d89-c528-4af5-9117-907f23f8dfeb",
   "metadata": {},
   "outputs": [],
   "source": [
    "import numpy as np\n",
    "\n",
    "# Columns: [Age, Math Marks, Science Marks]\n",
    "data = np.array([\n",
    "    [18, 85, 78],   # Student 1\n",
    "    [19, 92, 88],   # Student 2\n",
    "    [17, 76, 95],   # Student 3\n",
    "    [18, 65, 70],   # Student 4\n",
    "    [20, 90, 85]    # Student 5\n",
    "])"
   ]
  },
  {
   "cell_type": "code",
   "execution_count": 26,
   "id": "cc86649d-6eaf-4f29-ae82-626d87ab0412",
   "metadata": {},
   "outputs": [],
   "source": [
    "#Get the shape of the matrix.\n"
   ]
  },
  {
   "cell_type": "code",
   "execution_count": 28,
   "id": "512ab9df-174c-473a-b85a-edcaf1694bc3",
   "metadata": {},
   "outputs": [],
   "source": [
    "#Find the average age of students.\n"
   ]
  },
  {
   "cell_type": "code",
   "execution_count": 30,
   "id": "050a5141-ab0a-4e9d-be98-bb37d1e8bd3f",
   "metadata": {},
   "outputs": [],
   "source": [
    "#Extract Math marks of all students.\n"
   ]
  },
  {
   "cell_type": "code",
   "execution_count": 32,
   "id": "05a724aa-b2b6-4c32-b1f6-03b568d87649",
   "metadata": {},
   "outputs": [],
   "source": [
    "#Find the highest Science mark.\n"
   ]
  },
  {
   "cell_type": "code",
   "execution_count": 34,
   "id": "58dbe813-ad7d-4bd1-af72-81f0f7cd86ff",
   "metadata": {},
   "outputs": [],
   "source": [
    "#Get details of the student who scored more than 90 in Math.\n",
    "\n"
   ]
  },
  {
   "cell_type": "code",
   "execution_count": 37,
   "id": "0d8d4e9f-e7aa-4926-a432-4565b3e08f27",
   "metadata": {},
   "outputs": [],
   "source": [
    "#Increase Math marks of all students by 5.\n"
   ]
  },
  {
   "cell_type": "code",
   "execution_count": 39,
   "id": "6d3945af-91b5-4e81-ad8d-3ec3dca1119d",
   "metadata": {},
   "outputs": [],
   "source": [
    "#Find how many students are younger than 19.\n"
   ]
  },
  {
   "cell_type": "code",
   "execution_count": 41,
   "id": "64134eb8-c6d1-4d0b-a19b-1d124b18cf71",
   "metadata": {},
   "outputs": [],
   "source": [
    "#Calculate the average marks in each subject (column-wise mean).\n"
   ]
  },
  {
   "cell_type": "code",
   "execution_count": 43,
   "id": "0c44133f-6641-4da8-9d52-e28ee75098c4",
   "metadata": {},
   "outputs": [],
   "source": [
    "#Get data of students who scored at least 80 in both subjects.\n"
   ]
  },
  {
   "cell_type": "code",
   "execution_count": 46,
   "id": "7619e559-c244-4ca1-add2-7daca65b365e",
   "metadata": {},
   "outputs": [],
   "source": [
    "#Replace all Science marks < 75 with 0.\n"
   ]
  }
 ],
 "metadata": {
  "kernelspec": {
   "display_name": "Python [conda env:base] *",
   "language": "python",
   "name": "conda-base-py"
  },
  "language_info": {
   "codemirror_mode": {
    "name": "ipython",
    "version": 3
   },
   "file_extension": ".py",
   "mimetype": "text/x-python",
   "name": "python",
   "nbconvert_exporter": "python",
   "pygments_lexer": "ipython3",
   "version": "3.12.7"
  }
 },
 "nbformat": 4,
 "nbformat_minor": 5
}
